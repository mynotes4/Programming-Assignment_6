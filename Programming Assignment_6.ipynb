{
 "cells": [
  {
   "cell_type": "code",
   "execution_count": null,
   "id": "c6e0168a",
   "metadata": {},
   "outputs": [],
   "source": [
    "# 1. Write a Python Program to Display Fibonacci Sequence Using Recursion?\n",
    "def fab(n):\n",
    "    if n == 0 or n == 1:\n",
    "        return n\n",
    "    return fab(n-1) + fab(n-2)\n",
    "\n",
    "n = int(input(\"Enter no of terms \"))\n",
    "for i in range(0,n):\n",
    "    print(fab(i))"
   ]
  },
  {
   "cell_type": "code",
   "execution_count": null,
   "id": "02fc92a0",
   "metadata": {},
   "outputs": [],
   "source": [
    "# 2. Write a Python Program to Find Factorial of Number Using Recursion?\n",
    "def fact(n):\n",
    "    if n == 1:\n",
    "        return 1\n",
    "    return n*fact(n-1)\n",
    "\n",
    "n = int(input(\"Enter No \"))\n",
    "print(fact(n))"
   ]
  },
  {
   "cell_type": "code",
   "execution_count": null,
   "id": "5491a18f",
   "metadata": {},
   "outputs": [],
   "source": [
    "# 3. Write a Python Program to calculate your Body Mass Index?\n",
    "\n",
    "w = float(input(\"Enter weight in Kgs, \"))\n",
    "h = float(input(\"Enter height in cms. \"))\n",
    "h = h/100\n",
    "bmi = w/(h*h)\n",
    "print(\"Body Mass Index = \", round(bmi , 3))"
   ]
  },
  {
   "cell_type": "code",
   "execution_count": null,
   "id": "137ece4b",
   "metadata": {},
   "outputs": [],
   "source": [
    "# 4. Write a Python Program to calculate the natural logarithm of any number?\n",
    "import math\n",
    "a = float(input(\"Enter a no \"))\n",
    "print(\"Logarithim is \",math.log(a))"
   ]
  },
  {
   "cell_type": "code",
   "execution_count": null,
   "id": "ce67a77e",
   "metadata": {},
   "outputs": [],
   "source": [
    "# 5 . Write a Python Program for cube sum of first n natural numbers?\n",
    "def sum(n):\n",
    "    if n == 0:\n",
    "        return 0\n",
    "    return n**3 + sum(n-1)\n",
    "\n",
    "n = int(input(\"Enter nth natural number \"))\n",
    "print(sum(n))"
   ]
  },
  {
   "cell_type": "code",
   "execution_count": null,
   "id": "53aa9384",
   "metadata": {},
   "outputs": [],
   "source": []
  }
 ],
 "metadata": {
  "kernelspec": {
   "display_name": "Python 3 (ipykernel)",
   "language": "python",
   "name": "python3"
  },
  "language_info": {
   "codemirror_mode": {
    "name": "ipython",
    "version": 3
   },
   "file_extension": ".py",
   "mimetype": "text/x-python",
   "name": "python",
   "nbconvert_exporter": "python",
   "pygments_lexer": "ipython3",
   "version": "3.9.12"
  }
 },
 "nbformat": 4,
 "nbformat_minor": 5
}
